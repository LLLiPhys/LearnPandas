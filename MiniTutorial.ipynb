{
 "cells": [
  {
   "cell_type": "code",
   "execution_count": 3,
   "id": "de6c8840-9dd6-4b96-a749-7053f2e4a497",
   "metadata": {},
   "outputs": [
    {
     "name": "stdout",
     "output_type": "stream",
     "text": [
      "The entire DataFrame:\n",
      "   Eleanor  Chidi  Tahani  Jason\n",
      "0       36     30      99     45\n",
      "1       74     58       5      4\n",
      "2       35      1      93     74\n",
      "3       62     74      41     18\n",
      "Rows #0, #1, and #2:\n",
      "   Eleanor  Chidi  Tahani  Jason\n",
      "0       36     30      99     45\n",
      "1       74     58       5      4\n",
      "2       35      1      93     74 \n",
      "\n",
      "Row #2:\n",
      "   Eleanor  Chidi  Tahani  Jason\n",
      "2       35      1      93     74 \n",
      "\n",
      "Rows #1, #2, and #3:\n",
      "   Eleanor  Chidi  Tahani  Jason\n",
      "1       74     58       5      4\n",
      "2       35      1      93     74\n",
      "3       62     74      41     18 \n",
      "\n",
      "Columns 'Jason':\n",
      "0    45\n",
      "1     4\n",
      "2    74\n",
      "3    18\n",
      "Name: Jason, dtype: int64 \n",
      "\n"
     ]
    }
   ],
   "source": [
    "import numpy as np\n",
    "import pandas as pd\n",
    "\n",
    "# Create a 4x4 numpy array populated with 12 random integers ranged between 0 and 100\n",
    "dataset = np.random.randint(low=0, high=101, size=(4, 4))\n",
    "\n",
    "# Define the column names for the created 4x4 numpy array\n",
    "column_names = [\"Eleanor\", \"Chidi\", \"Tahani\", \"Jason\"]\n",
    "\n",
    "# 3. Create a Pandas DataFrame using the the 4x4 numpy array and the column names\n",
    "dataframe = pd.DataFrame(dataset, columns=column_names)\n",
    "\n",
    "print(\"The entire DataFrame:\")\n",
    "print(dataframe)\n",
    "\n",
    "print(\"Rows #0, #1, and #2:\")\n",
    "print(dataframe.head(3), \"\\n\")\n",
    "\n",
    "print(\"Row #2:\")\n",
    "print(dataframe.iloc[[2]], \"\\n\")\n",
    "\n",
    "print(\"Rows #1, #2, and #3:\")\n",
    "print(dataframe[1:4], \"\\n\")\n",
    "\n",
    "print(\"Columns 'Jason':\")\n",
    "print(dataframe[\"Jason\"], \"\\n\")"
   ]
  },
  {
   "cell_type": "code",
   "execution_count": 6,
   "id": "f0868b0c-2722-4909-9ce5-2df2a5863f09",
   "metadata": {},
   "outputs": [
    {
     "name": "stdout",
     "output_type": "stream",
     "text": [
      "The New DataFrame:\n",
      "   Eleanor  Chidi  Tahani  Jason  Janet  Sum\n",
      "0       36     30      99     45    144  354\n",
      "1       74     58       5      9     14  160\n",
      "2       35      1      93     74    167  370\n",
      "3       62     74      41     18     59  254\n",
      "The New DataFrame:\n",
      "   Eleanor  Chidi  Tahani  Jason  Janet  Sum\n",
      "0       36     30      99     45    144  354\n",
      "1       74     58       5      9     14  160\n",
      "2       35      1      93     74    167  370\n",
      "3       62     74      41     18     59  254\n"
     ]
    }
   ],
   "source": [
    "# Create a fifth column named Janet, which is populated with the row-by-row sums of Tahani and Jason\n",
    "\n",
    "dataframe[\"Janet\"] = dataframe[\"Tahani\"] + dataframe[\"Jason\"]\n",
    "\n",
    "print(\"The New DataFrame:\")\n",
    "print(dataframe)\n",
    "\n",
    "# Create a sixth column named Sum, which is populated with the row-by-row sums of all columns.\n",
    "row_by_row_sum = 0\n",
    "for name in [\"Eleanor\", \"Chidi\", \"Tahani\", \"Jason\", \"Janet\"]:\n",
    "    row_by_row_sum += dataframe[name]\n",
    "dataframe[\"Sum\"] = row_by_row_sum\n",
    "\n",
    "print(\"The New DataFrame:\")\n",
    "print(dataframe)"
   ]
  },
  {
   "cell_type": "code",
   "execution_count": 7,
   "id": "12f25e72-ba4c-4909-b950-188213d0d23e",
   "metadata": {},
   "outputs": [
    {
     "name": "stdout",
     "output_type": "stream",
     "text": [
      "Experiment with a reference:\n",
      "  Starting value of dataframe: 9\n",
      "  Starting value of reference_to_dataframe: 9\n",
      "\n",
      "  Updated dataframe: 19\n",
      "  Updated reference_to_dataframe: 19\n",
      "\n",
      "\n",
      "Experiment with a true copy:\n",
      "  Starting value of dataframe: 160\n",
      "  Starting value of copy_of_dataframe: 160\n",
      "\n",
      "  Updated dataframe: 260\n",
      "  copy_of_dataframe does not get updated: 160\n"
     ]
    }
   ],
   "source": [
    "# Pandas provides two different ways to duplicate a DataFrame:\n",
    "# 1. Referencing. If you assign a DataFrame to a new variable, any change to the DataFrame or to the new variable will be reflected in the other.\n",
    "# 2. Copying. If you call the pd.DataFrame.copy method, you create a true independent copy. Changes to the original DataFrame or to the copy will not be reflected in the other.\n",
    "# The difference betwenen the two days is subtle, but important.\n",
    "\n",
    "\n",
    "# Create a reference by assigning dataframe to a new variable.\n",
    "print(\"Experiment with a reference:\")\n",
    "reference_to_dataframe = dataframe\n",
    "\n",
    "# Print the starting value of a particular cell.\n",
    "print(\"  Starting value of dataframe: %d\" % dataframe['Jason'][1])\n",
    "print(\"  Starting value of reference_to_dataframe: %d\\n\" % reference_to_dataframe['Jason'][1])\n",
    "\n",
    "# Modify a cell in dataframe.\n",
    "dataframe.at[1, 'Jason'] = dataframe['Jason'][1] + 10\n",
    "print(\"  Updated dataframe: %d\" % dataframe['Jason'][1])\n",
    "print(\"  Updated reference_to_dataframe: %d\\n\\n\" % reference_to_dataframe['Jason'][1])\n",
    "\n",
    "# Create a true copy of dataframe\n",
    "print(\"Experiment with a true copy:\")\n",
    "copy_of_dataframe = dataframe.copy()\n",
    "\n",
    "# Print the starting value of a particular cell.\n",
    "print(\"  Starting value of dataframe: %d\" % dataframe['Sum'][1])\n",
    "print(\"  Starting value of copy_of_dataframe: %d\\n\" % copy_of_dataframe['Sum'][1])\n",
    "\n",
    "# Modify a cell in dataframe.\n",
    "dataframe.at[1, 'Sum'] = dataframe['Sum'][1] + 100\n",
    "print(\"  Updated dataframe: %d\" % dataframe['Sum'][1])\n",
    "print(\"  copy_of_dataframe does not get updated: %d\" % copy_of_dataframe['Sum'][1])"
   ]
  },
  {
   "cell_type": "code",
   "execution_count": null,
   "id": "f42cac81-994d-411c-b68e-c8cd1863d883",
   "metadata": {},
   "outputs": [],
   "source": []
  }
 ],
 "metadata": {
  "kernelspec": {
   "display_name": "Python 3.6.13 64-bit ('base': conda)",
   "language": "python",
   "name": "python3613jvsc74a57bd0bcaef06b848eec2320239edb2b676b83787ee04762e69d65ede02a0475393f93"
  },
  "language_info": {
   "codemirror_mode": {
    "name": "ipython",
    "version": 3
   },
   "file_extension": ".py",
   "mimetype": "text/x-python",
   "name": "python",
   "nbconvert_exporter": "python",
   "pygments_lexer": "ipython3",
   "version": "3.6.13"
  }
 },
 "nbformat": 4,
 "nbformat_minor": 5
}
